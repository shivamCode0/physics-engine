{
 "cells": [
  {
   "cell_type": "code",
   "execution_count": 1,
   "metadata": {},
   "outputs": [],
   "source": [
    "import sympy as sp"
   ]
  },
  {
   "cell_type": "code",
   "execution_count": 2,
   "metadata": {},
   "outputs": [
    {
     "name": "stdout",
     "output_type": "stream",
     "text": [
      "v_1f =  v_1i\n",
      "v_2f =  v_2i\n",
      "\n",
      "v_1f =  (m_1*v_1i + m_2*v_2i - m_2*(2*m_1*v_1i - m_1*v_2i + m_2*v_2i)/(m_1 + m_2))/m_1\n",
      "v_2f =  (2*m_1*v_1i - m_1*v_2i + m_2*v_2i)/(m_1 + m_2)\n",
      "\n"
     ]
    }
   ],
   "source": [
    "# solve m_1*v_1f + m_2*v_2f = m_1*v_1i + m_2*v_2i\n",
    "# and  m_1*v_1f**2 + m_2*v_2f**2 = m_1*v_1i**2 + m_2*v_2i**2\n",
    "\n",
    "m_1, m_2, v_1i, v_2i, v_1f, v_2f = sp.symbols('m_1 m_2 v_1i v_2i v_1f v_2f')\n",
    "\n",
    "eq1 = sp.Eq(m_1*v_1f + m_2*v_2f, m_1*v_1i + m_2*v_2i)\n",
    "eq2 = sp.Eq(m_1*v_1f**2 + m_2*v_2f**2, m_1*v_1i**2 + m_2*v_2i**2)\n",
    "\n",
    "sol = sp.solve([eq1, eq2], [v_1f, v_2f])\n",
    "\n",
    "# output the solution nicely formatted\n",
    "for i in range(len(sol)):\n",
    "    print('v_1f = ', sol[i][0])\n",
    "    print('v_2f = ', sol[i][1])\n",
    "    print('')"
   ]
  },
  {
   "cell_type": "code",
   "execution_count": 3,
   "metadata": {},
   "outputs": [],
   "source": [
    "import numpy as np"
   ]
  },
  {
   "cell_type": "code",
   "execution_count": 6,
   "metadata": {},
   "outputs": [
    {
     "data": {
      "text/plain": [
       "array([1, 4])"
      ]
     },
     "execution_count": 6,
     "metadata": {},
     "output_type": "execute_result"
    }
   ],
   "source": [
    "np.array([1,2])*(1,2)"
   ]
  },
  {
   "cell_type": "code",
   "execution_count": null,
   "metadata": {},
   "outputs": [],
   "source": [
    "a=np.arange(4)\n",
    "a[3]=5\n",
    "all"
   ]
  }
 ],
 "metadata": {
  "kernelspec": {
   "display_name": "ml",
   "language": "python",
   "name": "python3"
  },
  "language_info": {
   "codemirror_mode": {
    "name": "ipython",
    "version": 3
   },
   "file_extension": ".py",
   "mimetype": "text/x-python",
   "name": "python",
   "nbconvert_exporter": "python",
   "pygments_lexer": "ipython3",
   "version": "3.9.18"
  }
 },
 "nbformat": 4,
 "nbformat_minor": 2
}
